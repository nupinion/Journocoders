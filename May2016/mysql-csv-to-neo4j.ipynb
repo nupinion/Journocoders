{
 "cells": [
  {
   "cell_type": "markdown",
   "metadata": {},
   "source": [
    "MySQL Syntax to create the CSV's\n",
    "\n",
    "```bash\n",
    "SELECT *\n",
    "FROM employeelist\n",
    "INTO OUTFILE '/tmp/employeelist.csv' \n",
    "FIELDS ENCLOSED BY '\"' \n",
    "TERMINATED BY ',' \n",
    "ESCAPED BY '\"' \n",
    "LINES TERMINATED BY '\\n';\n",
    "```\n",
    "\n",
    "```bash\n",
    "SELECT *\n",
    "FROM message\n",
    "INTO OUTFILE '/tmp/message.csv' \n",
    "FIELDS ENCLOSED BY '\"' \n",
    "TERMINATED BY ',' \n",
    "ESCAPED BY '\"' \n",
    "LINES TERMINATED BY '\\n';\n",
    "```\n",
    "\n",
    "\n",
    "```bash\n",
    "SELECT *\n",
    "FROM recipientinfo\n",
    "INTO OUTFILE '/tmp/recipientinfo.csv' \n",
    "FIELDS ENCLOSED BY '\"' \n",
    "TERMINATED BY ',' \n",
    "ESCAPED BY '\"' \n",
    "LINES TERMINATED BY '\\n';\n",
    "```"
   ]
  },
  {
   "cell_type": "code",
   "execution_count": 1,
   "metadata": {
    "collapsed": false
   },
   "outputs": [],
   "source": [
    "import json\n",
    "import os\n",
    "import time"
   ]
  },
  {
   "cell_type": "code",
   "execution_count": 2,
   "metadata": {
    "collapsed": true
   },
   "outputs": [],
   "source": [
    "from neo4j.v1 import GraphDatabase, basic_auth"
   ]
  },
  {
   "cell_type": "code",
   "execution_count": 3,
   "metadata": {
    "collapsed": false
   },
   "outputs": [],
   "source": [
    "driver = GraphDatabase.driver(\"bolt://localhost\", auth=basic_auth(\"neo4j\", \"hellouniverse\"))"
   ]
  },
  {
   "cell_type": "code",
   "execution_count": 4,
   "metadata": {
    "collapsed": false
   },
   "outputs": [],
   "source": [
    "session = driver.session()"
   ]
  },
  {
   "cell_type": "code",
   "execution_count": 13,
   "metadata": {
    "collapsed": false
   },
   "outputs": [
    {
     "name": "stdout",
     "output_type": "stream",
     "text": [
      "<neo4j.v1.session.StatementResult object at 0x10f7e7310>\n",
      "<neo4j.v1.session.StatementResult object at 0x10f7e73d0>\n"
     ]
    }
   ],
   "source": [
    "# Delete everything.\n",
    "print session.run(\"MATCH (n)-[r]->() DELETE n,r\")\n",
    "print session.run(\"MATCH (n) DELETE n\")"
   ]
  },
  {
   "cell_type": "markdown",
   "metadata": {},
   "source": [
    "---\n",
    "### Employees"
   ]
  },
  {
   "cell_type": "code",
   "execution_count": 14,
   "metadata": {
    "collapsed": false
   },
   "outputs": [
    {
     "name": "stdout",
     "output_type": "stream",
     "text": [
      "DONE! Time elapsed: 4.11153316498 seconds\n"
     ]
    }
   ],
   "source": [
    "f = open('/Users/luuk/DATA/ENRON/employeelist.csv','r')\n",
    "\n",
    "# Loop over all employees and add them as nodes.\n",
    "t0 = time.time()\n",
    "for line in f.readlines()[1:]:\n",
    "    \n",
    "    employee = line.replace('\"','').split(',')\n",
    "    \n",
    "    eid = employee[0]\n",
    "    efname = employee[1]\n",
    "    elname = employee[2]\n",
    "    estatus = employee[-2]\n",
    "    einenron = \"True\"\n",
    "    \n",
    "    session.run(\"CREATE (person:Person {eid:\"+eid+\", first_name:'\"+efname+\"', last_name:'\"+elname+\"', status:'\"+estatus+\"', enron:'\"+einenron+\"'}) RETURN person\").consume()\n",
    "        \n",
    "    #create email nodes\n",
    "    for email in employee[3:7]: \n",
    "        if email != \"\":\n",
    "            session.run(\"MATCH (person:Person) WHERE person.eid=\"+eid+\" CREATE (person)-[r:has_address]->(email:EmailAddress {address:'\"+email+\"'})\").consume()\n",
    "\n",
    "\n",
    "print 'DONE! Time elapsed: {} seconds'.format(time.time()-t0)\n",
    "f.close()"
   ]
  },
  {
   "cell_type": "markdown",
   "metadata": {},
   "source": [
    "---\n",
    "### Message"
   ]
  },
  {
   "cell_type": "code",
   "execution_count": 18,
   "metadata": {
    "collapsed": false
   },
   "outputs": [
    {
     "name": "stdout",
     "output_type": "stream",
     "text": [
      "0 . 1000 . 2000 . 3000 . 4000 . \n",
      "\n",
      "DONE! Time elapsed: 53.1515328884 seconds\n"
     ]
    }
   ],
   "source": [
    "f = open('/Users/luuk/DATA/ENRON/message.csv','r')\n",
    "\n",
    "# Loop over all employees and add them as nodes.\n",
    "t0 = time.time()\n",
    "for e,line in enumerate(f.readlines()[:5000]):\n",
    "    \n",
    "    message = line.replace('\"','').split(',')\n",
    "    \n",
    "    # See if the sender exists...\n",
    "    matches = session.run(\"MATCH (n:EmailAddress) WHERE n.address='\"+message[1]+\"' RETURN n.address\")\n",
    "    numMatches = len([ m for m in matches ])\n",
    "    # If the sender does not exist, create the sender and the message together.\n",
    "    if numMatches == 0:\n",
    "        session.run(\"CREATE (n:EmailAddress {address:'\"+message[1]+\"'})-[r:Sent]->(e:Email {mid:\"+message[0]+\", subject:'\"+message[4]+\"', date:'\"+message[2]+\"'})\").consume()\n",
    "    else:\n",
    "        # Create a node for the message object.\n",
    "        session.run(\"MATCH (n:EmailAddress) WHERE n.address='\"+message[1]+\"' CREATE (n)-[r:Sent]->(email:Email {mid:\"+message[0]+\", subject:'\"+message[4]+\"', date:'\"+message[2]+\"'})\").consume()\n",
    "    \n",
    "    if e % 1000 == 0:\n",
    "        print e, '.',\n",
    "    \n",
    "    \n",
    "print '\\n\\nDONE! Time elapsed: {} seconds'.format(time.time()-t0)\n",
    "f.close()"
   ]
  },
  {
   "cell_type": "markdown",
   "metadata": {},
   "source": [
    "---\n",
    "### RecipientInfo"
   ]
  },
  {
   "cell_type": "code",
   "execution_count": 20,
   "metadata": {
    "collapsed": false
   },
   "outputs": [
    {
     "name": "stdout",
     "output_type": "stream",
     "text": [
      "0 . 1000 . 2000 . 3000 . 4000 . \n",
      "\n",
      "DONE! Time elapsed: 85.855987072 seconds\n"
     ]
    }
   ],
   "source": [
    "f = open('/Users/luuk/DATA/ENRON/recipientinfo.csv','r')\n",
    "\n",
    "# Loop over all employees and add them as nodes.\n",
    "t0 = time.time()\n",
    "for e,line in enumerate(f.readlines()[:5000]):\n",
    "    \n",
    "    message = line.replace('\"','').split(',')\n",
    "    mid = message[1]\n",
    "    rtype = message[2]\n",
    "    rvalue = message[3]\n",
    "    \n",
    "    # See if the receiver exists...\n",
    "    matches = session.run(\"MATCH (n:EmailAddress) WHERE n.address='\" + rvalue + \"' RETURN n.address\")\n",
    "    numMatches = len([ m for m in matches ])\n",
    "    # If the receiver does not exist, create the sender and the message together.\n",
    "    if numMatches == 0:\n",
    "        session.run(\"MATCH (m:Email) WHERE m.mid=\"+mid+\" CREATE (m)-[r:\"+rtype+\"]->(e:EmailAddress {address:'\"+rvalue+\"'})\").consume()\n",
    "    else:\n",
    "        # Create a node for the message object.\n",
    "        session.run(\"MATCH (m:Email), (e:EmailAddress) WHERE m.mid='\"+mid+\"' AND e.address='\"+rvalue+\"' CREATE (m)-[r:\"+rtype+\"]->(e)\").consume()\n",
    "    \n",
    "    if e % 1000 == 0:\n",
    "        print e, '.',\n",
    "    \n",
    "    \n",
    "print '\\n\\nDONE! Time elapsed: {} seconds'.format(time.time()-t0)\n",
    "f.close()"
   ]
  },
  {
   "cell_type": "code",
   "execution_count": null,
   "metadata": {
    "collapsed": true
   },
   "outputs": [],
   "source": []
  }
 ],
 "metadata": {
  "kernelspec": {
   "display_name": "Python 2",
   "language": "python",
   "name": "python2"
  },
  "language_info": {
   "codemirror_mode": {
    "name": "ipython",
    "version": 2
   },
   "file_extension": ".py",
   "mimetype": "text/x-python",
   "name": "python",
   "nbconvert_exporter": "python",
   "pygments_lexer": "ipython2",
   "version": "2.7.10"
  }
 },
 "nbformat": 4,
 "nbformat_minor": 0
}
